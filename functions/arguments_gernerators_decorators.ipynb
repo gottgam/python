{
  "nbformat": 4,
  "nbformat_minor": 0,
  "metadata": {
    "colab": {
      "name": "Week06-20180848-SuyeonPark.ipynb",
      "provenance": []
    },
    "kernelspec": {
      "name": "python3",
      "display_name": "Python 3"
    }
  },
  "cells": [
    {
      "cell_type": "markdown",
      "metadata": {
        "id": "xFZTw0Xv3q3k"
      },
      "source": [
        "- 작성자: 성신여자대학교 서비스디자인공학과 18학번 박수연(Github: @gottgam)\n",
        "- 이 코드는 수업 과제로 제출한 것이므로 무분별한 복사, 응용, 도용을 금합니다."
      ]
    },
    {
      "cell_type": "markdown",
      "metadata": {
        "id": "oMnCpKR0fY9r"
      },
      "source": [
        "# 1. \n",
        "'키워드 전용 인수' 개념을 이해하고 예를 들어 설명하시오. '매개변수에 * 사용하기' 부분의 print_data 함수에서 *가 있는 경우와 없는 경우의 차이점을 설명하시오."
      ]
    },
    {
      "cell_type": "markdown",
      "metadata": {
        "id": "xGVlv77XhJ5B"
      },
      "source": [
        "키워드 전용 인수를 이해하기 위해 위치 인수와 키워드 인수에 대한 개념부터 다시 정확히 짚고 넘어갈 필요가 있다.  \n",
        "\n",
        "1. __위치 인수(Positional Arguments)__\n",
        "- 위치를 신경써야 하는 패러미터다. 흔히 아는 '그' 패러미터가 맞다.\n",
        "```python\n",
        "def companys(usa, finland, korea):\n",
        "    return {'USA': usa, 'Finland':finland, 'S.Korea':korea}\n",
        "companys('Apple', 'Spotify', 'Samsung')\n",
        "```\n",
        "각 나라마다의 기업을 출력해야 하는 상황이다. 패러미터 패싱이 이루어질 때 Spotify와 Samsung의 위치를 바꾼다면 핀란드의 기업이 삼성이 되고, 한국 기업이 스포티파이가 될 것이다.  \n",
        "이는 잘못된 결과다.  \n",
        "\n",
        "2. __키워드 인수(Keyword Arguments)__\n",
        "- 위치에 따른 혼선을 피하기 위해 함수 자체에서 패러미터의 값을 정할 수 있다.\n",
        "```python\n",
        "def interest(name, money, year = 1, rate = 2.1):\n",
        "    print(name)\n",
        "    print(year)\n",
        "    return money * rate\n",
        "interest('Jake', 10000.00)\n",
        "# 모두에게 공통적인 거치 기간과 이자율을 굳이 명시해 주지 않아도 알아서 계산해 주는 편리함.\n",
        "```\n",
        "- 여기서 주의할 점은, 위치 인수가 먼저 순서에 맞춰 나온 후에 키워드 인수를 붙여 줘야 한다는 것이다.\n",
        "\n",
        "\n"
      ]
    },
    {
      "cell_type": "code",
      "metadata": {
        "id": "MTPJ2JbafTM5",
        "outputId": "29a3afc9-ea9e-4c17-f517-fa7c69a49c15",
        "colab": {
          "base_uri": "https://localhost:8080/",
          "height": 34
        }
      },
      "source": [
        "# 1. 위치 인수 예시\n",
        "\n",
        "def companys(usa, finland, korea):\n",
        "    return {'USA': usa, 'Finland':finland, 'S.Korea':korea}\n",
        "\n",
        "companys('Apple', 'Spotify', 'Samsung')\n",
        "# 나라별로 대기업의 이름이 잘 짜맞춰져서 나온다."
      ],
      "execution_count": 38,
      "outputs": [
        {
          "output_type": "execute_result",
          "data": {
            "text/plain": [
              "{'Finland': 'Spotify', 'S.Korea': 'Samsung', 'USA': 'Apple'}"
            ]
          },
          "metadata": {
            "tags": []
          },
          "execution_count": 38
        }
      ]
    },
    {
      "cell_type": "code",
      "metadata": {
        "id": "BUDMjs1StC68",
        "outputId": "3a5e6008-bd5c-4edb-c52d-9690b8e6a0ff",
        "colab": {
          "base_uri": "https://localhost:8080/",
          "height": 34
        }
      },
      "source": [
        "def companys(usa, finland, korea):\n",
        "    return {'USA': usa, 'Finland':finland, 'S.Korea':korea}\n",
        "\n",
        "companys('Apple', 'Samsung', 'Spotify')\n",
        "# 잘못된 결과. 스포티파이는 한국 기업이 아니다."
      ],
      "execution_count": 39,
      "outputs": [
        {
          "output_type": "execute_result",
          "data": {
            "text/plain": [
              "{'Finland': 'Samsung', 'S.Korea': 'Spotify', 'USA': 'Apple'}"
            ]
          },
          "metadata": {
            "tags": []
          },
          "execution_count": 39
        }
      ]
    },
    {
      "cell_type": "code",
      "metadata": {
        "id": "KSDno5IHtTK3",
        "outputId": "1276a8b9-3f65-4ea8-ced3-6f2eae2e0195",
        "colab": {
          "base_uri": "https://localhost:8080/",
          "height": 68
        }
      },
      "source": [
        "# 2. 키워드 인수 예시\n",
        "\n",
        "def interest(name, money, year = 1, rate = 2.1):\n",
        "    print(name)\n",
        "    print(year)\n",
        "    return money * rate\n",
        "interest('Jake', 10000.00)"
      ],
      "execution_count": 40,
      "outputs": [
        {
          "output_type": "stream",
          "text": [
            "Jake\n",
            "1\n"
          ],
          "name": "stdout"
        },
        {
          "output_type": "execute_result",
          "data": {
            "text/plain": [
              "21000.0"
            ]
          },
          "metadata": {
            "tags": []
          },
          "execution_count": 40
        }
      ]
    },
    {
      "cell_type": "code",
      "metadata": {
        "id": "XYPXGYCAxxPS",
        "outputId": "56b83950-975b-458f-c9ee-2960abecdedd",
        "colab": {
          "base_uri": "https://localhost:8080/",
          "height": 68
        }
      },
      "source": [
        "def interest(name, money, year = 1, rate = 2.1):\n",
        "    print(name)\n",
        "    print(year)\n",
        "    return money * rate\n",
        "print(interest('Jake', 10000.00, rate = 3.1, year = 2))\n",
        "# 호출할 때 패러미터의 이름을 사용해서 값을 전달해 줄 수 있다. 그것이 키워드 인수의 역할이다."
      ],
      "execution_count": 41,
      "outputs": [
        {
          "output_type": "stream",
          "text": [
            "Jake\n",
            "2\n",
            "31000.0\n"
          ],
          "name": "stdout"
        }
      ]
    },
    {
      "cell_type": "code",
      "metadata": {
        "id": "-UKgKHX22YxW",
        "outputId": "a9ed4f53-c3af-4703-8aa2-bd8ada9436fc",
        "colab": {
          "base_uri": "https://localhost:8080/",
          "height": 68
        }
      },
      "source": [
        "# code 1.0\n",
        "def interest(name, money, year = 1, rate = 2.1):\n",
        "    print(name)\n",
        "    print(year)\n",
        "    return money * rate\n",
        "print(interest('Jake', 10000.00, 2, 3.1)) # *주목! 순서만 지켜준다면 키워드 이름을 명시하지 않고도 사용이 가능하다."
      ],
      "execution_count": 42,
      "outputs": [
        {
          "output_type": "stream",
          "text": [
            "Jake\n",
            "2\n",
            "31000.0\n"
          ],
          "name": "stdout"
        }
      ]
    },
    {
      "cell_type": "code",
      "metadata": {
        "id": "DfYdrwhPydlZ",
        "outputId": "3ca26e27-a1c4-424c-acdc-fb7dc5d5de82",
        "colab": {
          "base_uri": "https://localhost:8080/",
          "height": 129
        }
      },
      "source": [
        "# 순서를 바꿔서 패싱하고 싶을 때는 모든 키워드 인수에 원하는 값을 써야 한다.\n",
        "print(interest('Blanka', 10000.00, rate = 3.1, 2)) # 2가 year의 것이라는 것을 말하지 않아서 에러."
      ],
      "execution_count": 43,
      "outputs": [
        {
          "output_type": "error",
          "ename": "SyntaxError",
          "evalue": "ignored",
          "traceback": [
            "\u001b[0;36m  File \u001b[0;32m\"<ipython-input-43-de78502ce2ec>\"\u001b[0;36m, line \u001b[0;32m2\u001b[0m\n\u001b[0;31m    print(interest('Blanka', 10000.00, rate = 3.1, 2)) # 2가 year의 것이라는 것을 말하지 않아서 에러.\u001b[0m\n\u001b[0m                                                  ^\u001b[0m\n\u001b[0;31mSyntaxError\u001b[0m\u001b[0;31m:\u001b[0m positional argument follows keyword argument\n"
          ]
        }
      ]
    },
    {
      "cell_type": "code",
      "metadata": {
        "id": "-6za64w6t3BP",
        "outputId": "b1a7931b-7590-4b40-88c1-2e850c54f48e",
        "colab": {
          "base_uri": "https://localhost:8080/",
          "height": 129
        }
      },
      "source": [
        "def interest(year = 1, rate = 2.1, name, money): # 위치 인자가 먼저 나오지 않았으므로 오류 발생.\n",
        "    print(name)\n",
        "    print(year)\n",
        "    return money * rate\n",
        "interest('Jake', 10000.00)"
      ],
      "execution_count": 44,
      "outputs": [
        {
          "output_type": "error",
          "ename": "SyntaxError",
          "evalue": "ignored",
          "traceback": [
            "\u001b[0;36m  File \u001b[0;32m\"<ipython-input-44-750d88af88af>\"\u001b[0;36m, line \u001b[0;32m1\u001b[0m\n\u001b[0;31m    def interest(year = 1, rate = 2.1, name, money): # 위치 인자가 먼저 나오지 않았으므로 오류 발생.\u001b[0m\n\u001b[0m                ^\u001b[0m\n\u001b[0;31mSyntaxError\u001b[0m\u001b[0;31m:\u001b[0m non-default argument follows default argument\n"
          ]
        }
      ]
    },
    {
      "cell_type": "markdown",
      "metadata": {
        "id": "QXmLvpCSuFrK"
      },
      "source": [
        "3. __키워드 전용 인수(Keyword-Only Arguments)__  \n",
        "- 말 그대로 '키워드로만 사용할 수 있다'는 뜻이다.\n",
        "- (교재의 원문) It's possible to pass in a keyword argument that has the same name as a positional parameter, probably not resulting in what you want.\n",
        "- 번역하면 이 뜻이다: 함수를 호출할 때, 함수 정의부에 있는 '위치 패러미터'와 같은 이름을 가진 키워드 인자를 사용하면 기대한 결과가 나오지 않을 수 있다.    \n",
        "- (출처의 원문) These are only specifiable via the name of the argument, and cannot be specified as a positional argument.\n",
        "- 번역하면 이 뜻이다: 키워드 전용 인수는 인수명을 사용하여 값을 정할 수 있지만 '위치 인수처럼' 값을 지정할 수는 없다.  \n",
        "\n",
        "*정말 그럴까?*"
      ]
    },
    {
      "cell_type": "code",
      "metadata": {
        "id": "Dc82csiawIEA",
        "outputId": "ba705fcd-78c3-4fd4-8a35-c08867dab954",
        "colab": {
          "base_uri": "https://localhost:8080/",
          "height": 85
        }
      },
      "source": [
        "def prices(gadgets, price, *, VAT = 0.1):\n",
        "  print(gadgets)\n",
        "  return price + (price * VAT)\n",
        "\n",
        "print(prices('iPhone 12', price = 999)) # valid\n",
        "print(prices('iPhone 12 Pro', 1099)) # valid"
      ],
      "execution_count": 45,
      "outputs": [
        {
          "output_type": "stream",
          "text": [
            "iPhone 12\n",
            "1098.9\n",
            "iPhone 12 Pro\n",
            "1208.9\n"
          ],
          "name": "stdout"
        }
      ]
    },
    {
      "cell_type": "markdown",
      "metadata": {
        "id": "lI0-onX6zivu"
      },
      "source": [
        "`*`는 '가변 위치 인수'라고 부른다. 가변 위치 인수 뒤의 것들은 모두 키워드 전용이 된다.  \n",
        "이는 말미암아 `*` 앞의 인수들은 위치 인수라는 뜻이 되지만 뒤의 것들은 키워드 인수로만 사용할 수 있다는 뜻으로 해석할 수 있다."
      ]
    },
    {
      "cell_type": "code",
      "metadata": {
        "id": "Ec82tV_2zhdj",
        "outputId": "3500fa74-991e-4291-b7c4-304372e659aa",
        "colab": {
          "base_uri": "https://localhost:8080/",
          "height": 51
        }
      },
      "source": [
        "def prices(gadgets, price, *, VAT = 0.1): # 부가가치세는 키워드 전용 인수가 되었다.\n",
        "  print(gadgets)\n",
        "  return price + (price * VAT)\n",
        "\n",
        "print(prices('iPhone 12', 999, VAT = 0.01)) # 가능하다."
      ],
      "execution_count": 46,
      "outputs": [
        {
          "output_type": "stream",
          "text": [
            "iPhone 12\n",
            "1008.99\n"
          ],
          "name": "stdout"
        }
      ]
    },
    {
      "cell_type": "code",
      "metadata": {
        "id": "07OO7mhC2RHq",
        "outputId": "98333b77-a8b9-4d7b-e994-a66b95779030",
        "colab": {
          "base_uri": "https://localhost:8080/",
          "height": 197
        }
      },
      "source": [
        "# code 1.1\n",
        "def prices(gadgets, price, *, VAT = 0.1):\n",
        "  print(gadgets)\n",
        "  return price + (price * VAT)\n",
        "\n",
        "print(prices('iPhone 12', 999, 0.01)) # invalid"
      ],
      "execution_count": 47,
      "outputs": [
        {
          "output_type": "error",
          "ename": "TypeError",
          "evalue": "ignored",
          "traceback": [
            "\u001b[0;31m---------------------------------------------------------------------------\u001b[0m",
            "\u001b[0;31mTypeError\u001b[0m                                 Traceback (most recent call last)",
            "\u001b[0;32m<ipython-input-47-ff77898c02ee>\u001b[0m in \u001b[0;36m<module>\u001b[0;34m()\u001b[0m\n\u001b[1;32m      4\u001b[0m   \u001b[0;32mreturn\u001b[0m \u001b[0mprice\u001b[0m \u001b[0;34m+\u001b[0m \u001b[0;34m(\u001b[0m\u001b[0mprice\u001b[0m \u001b[0;34m*\u001b[0m \u001b[0mVAT\u001b[0m\u001b[0;34m)\u001b[0m\u001b[0;34m\u001b[0m\u001b[0;34m\u001b[0m\u001b[0m\n\u001b[1;32m      5\u001b[0m \u001b[0;34m\u001b[0m\u001b[0m\n\u001b[0;32m----> 6\u001b[0;31m \u001b[0mprint\u001b[0m\u001b[0;34m(\u001b[0m\u001b[0mprices\u001b[0m\u001b[0;34m(\u001b[0m\u001b[0;34m'iPhone 12'\u001b[0m\u001b[0;34m,\u001b[0m \u001b[0;36m999\u001b[0m\u001b[0;34m,\u001b[0m \u001b[0;36m0.01\u001b[0m\u001b[0;34m)\u001b[0m\u001b[0;34m)\u001b[0m \u001b[0;31m# invalid\u001b[0m\u001b[0;34m\u001b[0m\u001b[0;34m\u001b[0m\u001b[0m\n\u001b[0m",
            "\u001b[0;31mTypeError\u001b[0m: prices() takes 2 positional arguments but 3 were given"
          ]
        }
      ]
    },
    {
      "cell_type": "markdown",
      "metadata": {
        "id": "Zh3P_v3a2slx"
      },
      "source": [
        "*왜 불가능할까?* '키워드 전용'이기 때문이다.  \n",
        "위로 스크롤해 `code 1.0`을 참고하시라. 저들은 키워드 인수이기는 하지만 키워드 '전용'은 아니다. 따라서 위치 인수처럼, 순서를 잘 지키며 값만 넣어주면 알아서 작동해 우리가 원하는 결과를 리턴/출력한다.  \n",
        "하지만 `code 1.1`의 VAT는 *키워드 '전용'*이다. 프로그래머가 아무리 순서를 잘 지켜 준다고 해도, 올바른 값을 넣어준다 한들, 무조건 `'패러미터 이름' = 값`의 형태를 지켜야 한다.\n",
        "\n",
        "\n",
        "\n",
        "궁금증 해결!"
      ]
    },
    {
      "cell_type": "markdown",
      "metadata": {
        "id": "YLCVrWjEf1iK"
      },
      "source": [
        "# 2. 교재 연습문제 9.2번\n",
        "Define a generator function called `get_odds()` that returns the odd numbers from `range(10)`. Use a for loop to find and print the third value returned."
      ]
    },
    {
      "cell_type": "code",
      "metadata": {
        "id": "4iqpe0VPgIBW",
        "outputId": "19c7ad92-de0f-442c-ee3d-5c1ca5c2c902",
        "colab": {
          "base_uri": "https://localhost:8080/",
          "height": 34
        }
      },
      "source": [
        "def get_odds():\n",
        "  for i in range(10):\n",
        "    if (i % 2 == 1):\n",
        "      yield i\n",
        "\n",
        "n = 0\n",
        "ranger = get_odds()\n",
        "for x in ranger:\n",
        "  if (n == 2):\n",
        "    print(x)\n",
        "  n += 1"
      ],
      "execution_count": 48,
      "outputs": [
        {
          "output_type": "stream",
          "text": [
            "5\n"
          ],
          "name": "stdout"
        }
      ]
    },
    {
      "cell_type": "markdown",
      "metadata": {
        "id": "S7QomqxMgIbY"
      },
      "source": [
        "#3. 교재 연습문제 9.3번\n",
        "Define a decorator called test that prints `'start'` when a function is called, and `'end'` when it finishes."
      ]
    },
    {
      "cell_type": "code",
      "metadata": {
        "id": "roymik6OgRvH",
        "outputId": "a77303cf-e65b-4643-b8df-8ed8bc30bdc8",
        "colab": {
          "base_uri": "https://localhost:8080/",
          "height": 68
        }
      },
      "source": [
        "def teller(func):\n",
        "  def new_function(*args, **kwargs):\n",
        "    print('start')\n",
        "    result = func(*args, **kwargs)\n",
        "    print(result)\n",
        "    print('end')\n",
        "  return new_function\n",
        "\n",
        "@teller\n",
        "def speaker(a, b):\n",
        "  return a + b\n",
        "\n",
        "speaker('I\\'m', ' talking.')"
      ],
      "execution_count": 49,
      "outputs": [
        {
          "output_type": "stream",
          "text": [
            "start\n",
            "I'm talking.\n",
            "end\n"
          ],
          "name": "stdout"
        }
      ]
    },
    {
      "cell_type": "code",
      "metadata": {
        "id": "aqnH_2ZLNI6_"
      },
      "source": [
        ""
      ],
      "execution_count": null,
      "outputs": []
    }
  ]
}
